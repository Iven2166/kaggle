{
 "cells": [
  {
   "cell_type": "code",
   "execution_count": 1,
   "metadata": {},
   "outputs": [],
   "source": [
    "import numpy as np # linear algebra\n",
    "import pandas as pd # data processing, CSV file I/O (e.g. pd.read_csv)\n",
    "\n",
    "#pytorch libraries\n",
    "import torch\n",
    "from torch import nn, optim\n",
    "from torchvision.transforms import ToTensor\n",
    "import torch.nn.functional as F\n",
    "\n",
    "#Visualization \n",
    "import matplotlib.pyplot as plt\n",
    "import seaborn as sns\n",
    "#Sklearn train teste split and report\n",
    "from sklearn.model_selection import train_test_split\n",
    "from sklearn.metrics import classification_report\n",
    "from torch.optim import lr_scheduler\n",
    "#\n",
    "import copy\n",
    "import os"
   ]
  },
  {
   "cell_type": "code",
   "execution_count": 14,
   "metadata": {},
   "outputs": [],
   "source": [
    "class configFile():\n",
    "    batch_size = 128\n",
    "    val_size = 0.1\n",
    "    learning_rate = 1e-3\n",
    "\n",
    "cfg = configFile()"
   ]
  },
  {
   "cell_type": "code",
   "execution_count": 5,
   "metadata": {},
   "outputs": [],
   "source": [
    "train_df = pd.read_csv('./train.csv', dtype=np.float32)\n",
    "test_df = pd.read_csv('./test.csv', dtype=np.float32)"
   ]
  },
  {
   "cell_type": "code",
   "execution_count": 13,
   "metadata": {},
   "outputs": [],
   "source": [
    "# def prepData(data, label, train_val = True):\n",
    "#     if train_val:\n",
    "#         X = data.drop(label, axis = 1).values/225 \n",
    "#         X = X.reshape((-1,1,28,28))\n",
    "#         X = torch.from_numpy(X) # to tensor\n",
    "#         y = data[label].values\n",
    "#         y = torch.from_numpy(y).type(torch.LongTensor) # to tensor\n",
    "#         return X, y\n",
    "#     else:\n",
    "#         X = data.values/225\n",
    "#         X = X.reshape((-1,1,28,28))\n",
    "#         X = torch.from_numpy(X)\n",
    "#         return X \n",
    "    \n",
    "# X_tensor, y_tensor = prepData(train_df, label = 'label', train_val = True)\n",
    "# X_train, X_val, y_train, y_val = train_test_split(X_tensor, y_tensor,\n",
    "#                                                   test_size = cfg.val_size,\n",
    "#                                                   random_state = 12,\n",
    "#                                                   stratify = y_tensor)"
   ]
  },
  {
   "cell_type": "code",
   "execution_count": 67,
   "metadata": {},
   "outputs": [],
   "source": [
    "# 由于torch版本问题？需要先split，再转成tensor，跟原作的顺序不一样"
   ]
  },
  {
   "cell_type": "code",
   "execution_count": 57,
   "metadata": {},
   "outputs": [],
   "source": [
    "X_train, X_val, y_train, y_val = train_test_split(\n",
    "    train_df.drop('label',axis=1),\n",
    "    train_df['label'],\n",
    "    test_size = cfg.val_size,\n",
    "    random_state = 12,\n",
    "    stratify = y_tensor)"
   ]
  },
  {
   "cell_type": "code",
   "execution_count": 54,
   "metadata": {},
   "outputs": [],
   "source": [
    "def prepTensor(if_x=None, data=None):\n",
    "    if if_x:\n",
    "        X = data.values/225\n",
    "        X = X.reshape((-1,1,28,28))\n",
    "        X = torch.from_numpy(X) # to tensor\n",
    "        return X\n",
    "    elif if_x == False:\n",
    "        y = data.values\n",
    "        y = torch.from_numpy(y).type(torch.LongTensor)\n",
    "        return y"
   ]
  },
  {
   "cell_type": "code",
   "execution_count": 61,
   "metadata": {},
   "outputs": [],
   "source": [
    "X_train = prepTensor(if_x=True, data=X_train)\n",
    "X_val = prepTensor(if_x=True, data=X_val)"
   ]
  },
  {
   "cell_type": "code",
   "execution_count": 59,
   "metadata": {},
   "outputs": [],
   "source": [
    "y_train = prepTensor(if_x=False, data=y_train)\n",
    "y_val = prepTensor(if_x=False, data=y_val)"
   ]
  },
  {
   "cell_type": "code",
   "execution_count": 143,
   "metadata": {},
   "outputs": [
    {
     "data": {
      "text/plain": [
       "37800"
      ]
     },
     "execution_count": 143,
     "metadata": {},
     "output_type": "execute_result"
    }
   ],
   "source": [
    "len(train)"
   ]
  },
  {
   "cell_type": "code",
   "execution_count": 62,
   "metadata": {},
   "outputs": [],
   "source": [
    "train = torch.utils.data.TensorDataset(X_train, y_train)\n",
    "val = torch.utils.data.TensorDataset(X_val, y_val)"
   ]
  },
  {
   "cell_type": "code",
   "execution_count": 70,
   "metadata": {},
   "outputs": [],
   "source": [
    "train_loader = torch.utils.data.DataLoader(train,\n",
    "                                           batch_size  = cfg.batch_size, \n",
    "                                           shuffle = True)\n",
    "val_loader = torch.utils.data.DataLoader(val,\n",
    "                                           batch_size  = cfg.batch_size, \n",
    "                                           shuffle = True)"
   ]
  },
  {
   "cell_type": "code",
   "execution_count": 100,
   "metadata": {},
   "outputs": [
    {
     "data": {
      "image/png": "[encoded data removed]",
      "text/plain": [
       "<Figure size 1080x576 with 5 Axes>"
      ]
     },
     "metadata": {
      "needs_background": "light"
     },
     "output_type": "display_data"
    }
   ],
   "source": [
    "#Number of images to show\n",
    "images_to_show = 5\n",
    "#Create a subplot figure\n",
    "fig, ax = plt.subplots(nrows = 1, ncols = 5,  figsize = (15,8))\n",
    "for i, (X,y) in enumerate(train_loader): # iterata over train_loader\n",
    "#     print(i)\n",
    "    image = X[i]\n",
    "#     print(image)\n",
    "    ax[i].imshow(image.squeeze(), cmap=\"viridis\") # Squeeze removes length (1,28,28) -> (28,28)\n",
    "    ax[i].set_title(int(y[i])) # set a title\n",
    "    if i == (images_to_show -1): break # end iteration if reached max of images to show"
   ]
  },
  {
   "cell_type": "code",
   "execution_count": 101,
   "metadata": {},
   "outputs": [
    {
     "name": "stdout",
     "output_type": "stream",
     "text": [
      "cuda\n"
     ]
    }
   ],
   "source": [
    "device = torch.device('cuda' if torch.cuda.is_available() else 'cpu')\n",
    "print(device)"
   ]
  },
  {
   "cell_type": "code",
   "execution_count": 119,
   "metadata": {},
   "outputs": [],
   "source": [
    "class ConvNet(nn.Module):\n",
    "    \"\"\"Class to build the Convolutional network\"\"\"\n",
    "    def __init__(self):\n",
    "        super(ConvNet,self).__init__()\n",
    "        #1 Conv layers\n",
    "        self.conv1 = nn.Conv2d(in_channels=1,\n",
    "                               out_channels=64,#32,\n",
    "                               kernel_size=5) \n",
    "        # shape: (28-5+1)*(28-5+1)*32=24*24*32\n",
    "        self.relu1 = nn.LeakyReLU()\n",
    "        self.pool1 = nn.MaxPool2d(kernel_size=2)\n",
    "        # shape: (24/2)*(24/2)*32=12*12*32\n",
    "        #2 Conv layers\n",
    "        self.conv2 = nn.Conv2d(in_channels=64,#32,\n",
    "                               out_channels=128,#64,\n",
    "                               kernel_size=5)\n",
    "        # shape: (12-5+1)*(12-5+1)*64=8*8*64\n",
    "        self.relu2 = nn.LeakyReLU()\n",
    "        self.pool2 = nn.MaxPool2d(kernel_size=2)\n",
    "        # shape: (8/2)*(8/2)*64=4*4*64=1024\n",
    "        # Flatten layers\n",
    "        self.flatten = nn.Flatten()\n",
    "#         self.linear1 = nn.Linear(in_features=1024, out_features=160)\n",
    "#         self.linear2 = nn.Linear(in_features=160, out_features=92)\n",
    "#         self.linear3 = nn.Linear(in_features=92, out_features=10)\n",
    "        \n",
    "        self.linear1 = nn.Linear(in_features=1024*2, out_features=200*2)\n",
    "        self.linear2 = nn.Linear(in_features=400, out_features=200)\n",
    "        self.linear3 = nn.Linear(in_features=200, out_features=100)\n",
    "        self.linear4 = nn.Linear(in_features=100, out_features=10)\n",
    "        \n",
    "    def forward(self, x):\n",
    "        \"\"\"Forward Method\"\"\"\n",
    "        out = self.conv1(x)\n",
    "        out = self.relu1(out)\n",
    "        out = self.pool1(out)\n",
    "        \n",
    "        out = self.conv2(out)\n",
    "        out = self.relu2(out)\n",
    "        out = self.pool2(out)\n",
    "        \n",
    "        out = self.flatten(out)\n",
    "        out = self.linear1(out)\n",
    "        out = self.linear2(out)\n",
    "        out = self.linear3(out)\n",
    "        out = self.linear4(out)\n",
    "        \n",
    "        return out"
   ]
  },
  {
   "cell_type": "code",
   "execution_count": 120,
   "metadata": {},
   "outputs": [],
   "source": [
    "def train_(model, optimizer, loss_func, train_loader, device):\n",
    "    \"\"\"Function to train the model\"\"\"\n",
    "    train_loss = 0.0\n",
    "    train_correct = 0\n",
    "    size_sampler = len(train_loader.sampler) # ??\n",
    "    \n",
    "    for i, (images, labels) in enumerate(train_loader):\n",
    "        # push the data to device\n",
    "        images, labels = images.to(device), labels.to(device)\n",
    "        #  zeroing the optimizer\n",
    "        optimizer.zero_grad()\n",
    "        # feed foward\n",
    "        y_hat = model(images)\n",
    "        # compute loss\n",
    "        loss = loss_func(y_hat, labels)\n",
    "        # compute backpropagation\n",
    "        loss.backward()\n",
    "        # updating the weights\n",
    "        optimizer.step()\n",
    "        # loss and correct values compute\n",
    "        train_loss += loss.item() * images.size(0)\n",
    "        _, pred = torch.max(y_hat.data, 1)\n",
    "        train_correct += sum(pred==labels).sum().item()\n",
    "    return np.round(train_loss / size_sampler, \n",
    "                    4),np.round(train_correct*100./size_sampler, 3)\n",
    "\n",
    "def validation_(model, loss_func, val_loader, device):\n",
    "    val_loss = 0.0\n",
    "    val_correct = 0\n",
    "    size_sampler = len(val_loader.sampler)\n",
    "    with torch.no_grad():\n",
    "        for i, (images, labels) in enumerate(val_loader):\n",
    "            images, labels = images.to(device), labels.to(device)\n",
    "            y_hat = model(images)\n",
    "            loss = loss_func(y_hat, labels)\n",
    "            \n",
    "            val_loss += loss.item() * images.size(0)\n",
    "            _, pred = torch.max(y_hat.data, 1)\n",
    "            val_correct += (pred==labels).sum().item()\n",
    "    return np.round(val_loss/size_sampler,\n",
    "                    4), np.round(val_correct*100./size_sampler,3)\n",
    "\n",
    "def train_model(model, optimizer, loss_func, scheduler, train_loader,\n",
    "               val_loader, epochs, device, log=True):\n",
    "    best_acc = 0\n",
    "    print(\"Initializing Training...\")\n",
    "    history = {'train_loss':[], 'val_loss':[],\n",
    "               'train_acc':[], 'val_acc':[]}\n",
    "    for i in range(epochs):\n",
    "        train_loss, train_acc = train_(model, optimizer, loss_func,\n",
    "                                       train_loader, device)\n",
    "        val_loss, val_acc = validation_(model, loss_func,\n",
    "                                        val_loader, device)\n",
    "        scheduler.step() #???\n",
    "        if val_acc > best_acc:\n",
    "            print(f'>> Saving best model with val acc:old:{best_acc}|new:{val_acc}')\n",
    "            best_model = copy.deepcopy(model)\n",
    "            best_acc = val_acc\n",
    "        if log and ((i+1)%2==0):\n",
    "            print(f'> Epochs: {i+1}/{epochs} - Train loss:{train_loss} - Train acc:{train_acc} - Val Loss:{val_loss} - Val Acc:{val_acc}')\n",
    "        for key, value in zip(history, [train_loss,val_loss,train_acc,val_acc]):\n",
    "            history[key].append(value)\n",
    "        print('...End Training')\n",
    "    return history, best_model"
   ]
  },
  {
   "cell_type": "code",
   "execution_count": 121,
   "metadata": {},
   "outputs": [],
   "source": [
    "def plot_history(history):\n",
    "    fig, ax = plt.subplots(nrows=1, ncols=2, figsize=(16,6))\n",
    "    # loss\n",
    "    sns.lineplot(data = history['train_loss'],\n",
    "                 label='training loss',\n",
    "                 ax = ax[0])\n",
    "    sns.lineplot(data = history['val_loss'],\n",
    "                 label = 'validation loss',\n",
    "                 ax = ax[0])\n",
    "    ax[0].legend(loc='upper right')\n",
    "    ax[0].set_title('loss')\n",
    "    # accuracy\n",
    "    sns.lineplot(data = history['train_acc'],\n",
    "                 label = 'Training Accuracy', ax = ax[1])\n",
    "    sns.lineplot(data = history['val_acc'],\n",
    "                 label = 'Validation Accuracy', ax = ax[1])\n",
    "    ax[1].legend(loc = 'lower right')\n",
    "    ax[1].set_title('Accuracy')"
   ]
  },
  {
   "cell_type": "code",
   "execution_count": 122,
   "metadata": {
    "collapsed": true
   },
   "outputs": [
    {
     "name": "stdout",
     "output_type": "stream",
     "text": [
      "Initializing Training...\n",
      ">> Saving best model with val acc:old:0|new:97.19\n",
      "...End Training\n",
      ">> Saving best model with val acc:old:97.19|new:98.119\n",
      "> Epochs: 2/50 - Train loss:0.0495 - Train acc:98.413 - Val Loss:0.0797 - Val Acc:98.119\n",
      "...End Training\n",
      "...End Training\n",
      ">> Saving best model with val acc:old:98.119|new:98.595\n",
      "> Epochs: 4/50 - Train loss:0.0248 - Train acc:99.233 - Val Loss:0.0614 - Val Acc:98.595\n",
      "...End Training\n",
      ">> Saving best model with val acc:old:98.595|new:98.714\n",
      "...End Training\n",
      "> Epochs: 6/50 - Train loss:0.0153 - Train acc:99.505 - Val Loss:0.0685 - Val Acc:98.524\n",
      "...End Training\n",
      "...End Training\n",
      "> Epochs: 8/50 - Train loss:0.0123 - Train acc:99.577 - Val Loss:0.0939 - Val Acc:98.524\n",
      "...End Training\n",
      "...End Training\n",
      ">> Saving best model with val acc:old:98.714|new:98.905\n",
      "> Epochs: 10/50 - Train loss:0.005 - Train acc:99.817 - Val Loss:0.0525 - Val Acc:98.905\n",
      "...End Training\n",
      "...End Training\n",
      ">> Saving best model with val acc:old:98.905|new:98.929\n",
      "> Epochs: 12/50 - Train loss:0.0011 - Train acc:99.995 - Val Loss:0.0531 - Val Acc:98.929\n",
      "...End Training\n",
      ">> Saving best model with val acc:old:98.929|new:98.976\n",
      "...End Training\n",
      "> Epochs: 14/50 - Train loss:0.0006 - Train acc:100.0 - Val Loss:0.0549 - Val Acc:98.976\n",
      "...End Training\n",
      "...End Training\n",
      "> Epochs: 16/50 - Train loss:0.0004 - Train acc:100.0 - Val Loss:0.0571 - Val Acc:98.976\n",
      "...End Training\n",
      "...End Training\n",
      "> Epochs: 18/50 - Train loss:0.0002 - Train acc:100.0 - Val Loss:0.0593 - Val Acc:98.976\n",
      "...End Training\n",
      "...End Training\n",
      "> Epochs: 20/50 - Train loss:0.0002 - Train acc:100.0 - Val Loss:0.0594 - Val Acc:98.952\n",
      "...End Training\n",
      "...End Training\n",
      "> Epochs: 22/50 - Train loss:0.0002 - Train acc:100.0 - Val Loss:0.0596 - Val Acc:98.952\n",
      "...End Training\n",
      "...End Training\n",
      "> Epochs: 24/50 - Train loss:0.0002 - Train acc:100.0 - Val Loss:0.0598 - Val Acc:98.952\n",
      "...End Training\n",
      "...End Training\n",
      "> Epochs: 26/50 - Train loss:0.0002 - Train acc:100.0 - Val Loss:0.0601 - Val Acc:98.952\n",
      "...End Training\n",
      "...End Training\n",
      "> Epochs: 28/50 - Train loss:0.0002 - Train acc:100.0 - Val Loss:0.0603 - Val Acc:98.952\n",
      "...End Training\n",
      "...End Training\n",
      "> Epochs: 30/50 - Train loss:0.0002 - Train acc:100.0 - Val Loss:0.0603 - Val Acc:98.952\n",
      "...End Training\n",
      "...End Training\n",
      "> Epochs: 32/50 - Train loss:0.0002 - Train acc:100.0 - Val Loss:0.0603 - Val Acc:98.952\n",
      "...End Training\n",
      "...End Training\n",
      "> Epochs: 34/50 - Train loss:0.0002 - Train acc:100.0 - Val Loss:0.0603 - Val Acc:98.952\n",
      "...End Training\n",
      "...End Training\n",
      "> Epochs: 36/50 - Train loss:0.0002 - Train acc:100.0 - Val Loss:0.0604 - Val Acc:98.952\n",
      "...End Training\n",
      "...End Training\n",
      "> Epochs: 38/50 - Train loss:0.0002 - Train acc:100.0 - Val Loss:0.0604 - Val Acc:98.952\n",
      "...End Training\n",
      "...End Training\n",
      "> Epochs: 40/50 - Train loss:0.0002 - Train acc:100.0 - Val Loss:0.0604 - Val Acc:98.952\n",
      "...End Training\n",
      "...End Training\n",
      "> Epochs: 42/50 - Train loss:0.0002 - Train acc:100.0 - Val Loss:0.0604 - Val Acc:98.952\n",
      "...End Training\n",
      "...End Training\n",
      "> Epochs: 44/50 - Train loss:0.0002 - Train acc:100.0 - Val Loss:0.0604 - Val Acc:98.952\n",
      "...End Training\n",
      "...End Training\n",
      "> Epochs: 46/50 - Train loss:0.0002 - Train acc:100.0 - Val Loss:0.0604 - Val Acc:98.952\n",
      "...End Training\n",
      "...End Training\n",
      "> Epochs: 48/50 - Train loss:0.0002 - Train acc:100.0 - Val Loss:0.0604 - Val Acc:98.952\n",
      "...End Training\n",
      "...End Training\n",
      "> Epochs: 50/50 - Train loss:0.0002 - Train acc:100.0 - Val Loss:0.0604 - Val Acc:98.952\n",
      "...End Training\n"
     ]
    }
   ],
   "source": [
    "model = ConvNet().to(device)\n",
    "optimizer = optim.AdamW(model.parameters(), lr = cfg.learning_rate)\n",
    "loss_func = nn.CrossEntropyLoss()\n",
    "scheduler = lr_scheduler.StepLR(optimizer, step_size = 9, gamma = 0.05)\n",
    "\n",
    "history, best_model = train_model(model=model,\n",
    "                                  optimizer = optimizer,\n",
    "                                  loss_func = loss_func,\n",
    "                                  scheduler = scheduler,\n",
    "                                  train_loader = train_loader,\n",
    "                                  val_loader = val_loader,\n",
    "                                  epochs = 50,\n",
    "                                  device = device)"
   ]
  },
  {
   "cell_type": "code",
   "execution_count": 123,
   "metadata": {},
   "outputs": [
    {
     "data": {
      "image/png": "[encoded data removed]",
      "text/plain": [
       "<Figure size 1152x432 with 2 Axes>"
      ]
     },
     "metadata": {
      "needs_background": "light"
     },
     "output_type": "display_data"
    }
   ],
   "source": [
    "plot_history(history)"
   ]
  },
  {
   "cell_type": "code",
   "execution_count": 127,
   "metadata": {},
   "outputs": [],
   "source": [
    "X_test = prepTensor(if_x=True, data=test_df)\n",
    "test_loader = torch.utils.data.DataLoader(X_test, batch_size=1,\n",
    "                                          shuffle=False)\n",
    "y_pred_list = []\n",
    "with torch.no_grad():\n",
    "    for X_test_1d in (test_loader):\n",
    "        y_pred = best_model(X_test_1d.to(device))\n",
    "        _, y_pred_tags = torch.max(y_pred, dim=1)\n",
    "        y_pred_list.append(y_pred_tags.to('cpu'))\n",
    "\n",
    "result = [int(i[0]) for i in y_pred_list]\n",
    "df = pd.Series(result, name='Label').reset_index()\n",
    "df.rename(columns = {'index': 'ImageId'}, inplace=True)\n",
    "df['ImageId'] = df['ImageId'] + 1\n",
    "df.to_csv('submisstion_v1.csv',index=False)"
   ]
  },
  {
   "cell_type": "code",
   "execution_count": 141,
   "metadata": {},
   "outputs": [
    {
     "name": "stdout",
     "output_type": "stream",
     "text": [
      "0\n",
      "1\n",
      "2\n",
      "3\n",
      "4\n",
      "5\n",
      "6\n",
      "7\n",
      "8\n",
      "9\n"
     ]
    },
    {
     "data": {
      "image/png": "[encoded data removed]",
      "text/plain": [
       "<Figure size 1080x576 with 10 Axes>"
      ]
     },
     "metadata": {
      "needs_background": "light"
     },
     "output_type": "display_data"
    }
   ],
   "source": [
    "#Visualizing some examples in the training dataset X\n",
    "\n",
    "#Number of images to show\n",
    "images_to_show = 10\n",
    "#Create a subplot figure\n",
    "fig, ax = plt.subplots(nrows = 1, ncols = 10,  figsize = (15,8))\n",
    "for i, X in enumerate(test_loader): # iterata over train_loader\n",
    "    print(i)\n",
    "    image = X\n",
    "#     print(image)\n",
    "    ax[i].imshow(image.squeeze(), cmap=\"viridis\") # Squeeze removes length (1,28,28) -> (28,28)\n",
    "#     ax[i].set_title(int(y[i])) # set a title\n",
    "    if i == (images_to_show -1): break # end iteration if reached max of images to show"
   ]
  },
  {
   "cell_type": "code",
   "execution_count": 135,
   "metadata": {},
   "outputs": [
    {
     "data": {
      "text/plain": [
       "28000"
      ]
     },
     "execution_count": 135,
     "metadata": {},
     "output_type": "execute_result"
    }
   ],
   "source": [
    "len(test_loader)"
   ]
  },
  {
   "cell_type": "code",
   "execution_count": 142,
   "metadata": {},
   "outputs": [
    {
     "data": {
      "text/html": [
       "<div>\n",
       "<style scoped>\n",
       "    .dataframe tbody tr th:only-of-type {\n",
       "        vertical-align: middle;\n",
       "    }\n",
       "\n",
       "    .dataframe tbody tr th {\n",
       "        vertical-align: top;\n",
       "    }\n",
       "\n",
       "    .dataframe thead th {\n",
       "        text-align: right;\n",
       "    }\n",
       "</style>\n",
       "<table border=\"1\" class=\"dataframe\">\n",
       "  <thead>\n",
       "    <tr style=\"text-align: right;\">\n",
       "      <th></th>\n",
       "      <th>ImageId</th>\n",
       "      <th>Label</th>\n",
       "    </tr>\n",
       "  </thead>\n",
       "  <tbody>\n",
       "    <tr>\n",
       "      <th>0</th>\n",
       "      <td>1</td>\n",
       "      <td>2</td>\n",
       "    </tr>\n",
       "    <tr>\n",
       "      <th>1</th>\n",
       "      <td>2</td>\n",
       "      <td>0</td>\n",
       "    </tr>\n",
       "    <tr>\n",
       "      <th>2</th>\n",
       "      <td>3</td>\n",
       "      <td>9</td>\n",
       "    </tr>\n",
       "    <tr>\n",
       "      <th>3</th>\n",
       "      <td>4</td>\n",
       "      <td>9</td>\n",
       "    </tr>\n",
       "    <tr>\n",
       "      <th>4</th>\n",
       "      <td>5</td>\n",
       "      <td>3</td>\n",
       "    </tr>\n",
       "    <tr>\n",
       "      <th>5</th>\n",
       "      <td>6</td>\n",
       "      <td>7</td>\n",
       "    </tr>\n",
       "    <tr>\n",
       "      <th>6</th>\n",
       "      <td>7</td>\n",
       "      <td>0</td>\n",
       "    </tr>\n",
       "    <tr>\n",
       "      <th>7</th>\n",
       "      <td>8</td>\n",
       "      <td>3</td>\n",
       "    </tr>\n",
       "    <tr>\n",
       "      <th>8</th>\n",
       "      <td>9</td>\n",
       "      <td>0</td>\n",
       "    </tr>\n",
       "    <tr>\n",
       "      <th>9</th>\n",
       "      <td>10</td>\n",
       "      <td>3</td>\n",
       "    </tr>\n",
       "  </tbody>\n",
       "</table>\n",
       "</div>"
      ],
      "text/plain": [
       "   ImageId  Label\n",
       "0        1      2\n",
       "1        2      0\n",
       "2        3      9\n",
       "3        4      9\n",
       "4        5      3\n",
       "5        6      7\n",
       "6        7      0\n",
       "7        8      3\n",
       "8        9      0\n",
       "9       10      3"
      ]
     },
     "execution_count": 142,
     "metadata": {},
     "output_type": "execute_result"
    }
   ],
   "source": [
    "df[0:10]"
   ]
  }
 ],
 "metadata": {
  "kernelspec": {
   "display_name": "Python 3",
   "language": "python",
   "name": "python3"
  },
  "language_info": {
   "codemirror_mode": {
    "name": "ipython",
    "version": 3
   },
   "file_extension": ".py",
   "mimetype": "text/x-python",
   "name": "python",
   "nbconvert_exporter": "python",
   "pygments_lexer": "ipython3",
   "version": "3.6.8"
  }
 },
 "nbformat": 4,
 "nbformat_minor": 4
}
